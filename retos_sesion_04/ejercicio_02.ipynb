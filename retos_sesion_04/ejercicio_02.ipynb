{
 "cells": [
  {
   "cell_type": "code",
   "execution_count": null,
   "id": "d0e5837c",
   "metadata": {},
   "outputs": [],
   "source": [
    "# Codigo ejemplo 2\n",
    "print (\"   _________________________________   \")\n",
    "print (\"   |                               |    \")\n",
    "print (\"   |                               |    \")\n",
    "print (\"   |       ..../\\,,,,/\\....        |    \")\n",
    "print (\"   |       ....( =`;`= )....       |    \")\n",
    "print (\"   |       ..../*     *\\....       |    \")\n",
    "print (\"   |       ...(.|.|..|.|.)..       |    \")\n",
    "print (\"   |                               |    \")\n",
    "print (\"   |_______________________________|   \")"
   ]
  },
  {
   "cell_type": "markdown",
   "id": "14c546ca",
   "metadata": {},
   "source": [
    "# Esto es un coejito\n",
    "print (\"\")"
   ]
  }
 ],
 "metadata": {
  "language_info": {
   "name": "python"
  }
 },
 "nbformat": 4,
 "nbformat_minor": 5
}
